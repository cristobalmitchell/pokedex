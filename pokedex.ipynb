{
 "cells": [
  {
   "cell_type": "markdown",
   "metadata": {},
   "source": [
    "# Pokedex\n",
    "This notebook is used to collect the full pokedex dataset from Gen I to Gen VIII"
   ]
  },
  {
   "cell_type": "code",
   "execution_count": 41,
   "metadata": {},
   "outputs": [],
   "source": [
    "import pandas as pd\n",
    "import requests\n",
    "from bs4 import BeautifulSoup"
   ]
  },
  {
   "cell_type": "markdown",
   "metadata": {},
   "source": [
    "We will use bulbapedia.bulbagarden.net to collect the name of all the pokemon."
   ]
  },
  {
   "cell_type": "code",
   "execution_count": 101,
   "metadata": {},
   "outputs": [],
   "source": [
    "url = \"https://bulbapedia.bulbagarden.net/wiki/List_of_Pokémon_by_National_Pokédex_number\""
   ]
  },
  {
   "cell_type": "code",
   "execution_count": 102,
   "metadata": {},
   "outputs": [],
   "source": [
    "r = requests.get(url)\n",
    "soup = BeautifulSoup(r.text, \"html.parser\")\n",
    "rows = soup.find_all(\"tr\")"
   ]
  },
  {
   "cell_type": "code",
   "execution_count": 103,
   "metadata": {},
   "outputs": [],
   "source": [
    "df = pd.DataFrame()\n",
    "for row in rows:\n",
    "    if len(row.find_all(\"th\")) > 1:\n",
    "        headers = [header.text.replace('\\n','').replace(' ','') for header in row.find_all(\"th\")]\n",
    "    elif len(row.find_all(\"td\")) > 1: \n",
    "        record = {}\n",
    "        for i in range(len(row.find_all(\"td\"))):\n",
    "            record[headers[i]] = row.find_all(\"td\")[i].text.replace('\\n','').replace(' ','')\n",
    "        df = df.append(pd.Series(record), ignore_index=True)"
   ]
  },
  {
   "cell_type": "code",
   "execution_count": 104,
   "metadata": {},
   "outputs": [],
   "source": [
    "cols = ['Ndex', 'MS']\n",
    "df = df[cols]\n",
    "df.drop_duplicates(inplace=True)"
   ]
  },
  {
   "cell_type": "code",
   "execution_count": 105,
   "metadata": {},
   "outputs": [],
   "source": [
    "pokemon_names = df['MS'].to_list()"
   ]
  },
  {
   "cell_type": "code",
   "execution_count": 106,
   "metadata": {},
   "outputs": [],
   "source": [
    "pokemon_names = [item.lower() for item in pokemon_names]"
   ]
  },
  {
   "cell_type": "code",
   "execution_count": 107,
   "metadata": {},
   "outputs": [
    {
     "name": "stdout",
     "output_type": "stream",
     "text": [
      "['bulbasaur', 'ivysaur', 'venusaur', 'charmander', 'charmeleon']\n"
     ]
    }
   ],
   "source": [
    "print(pokemon_names[0:5])"
   ]
  },
  {
   "cell_type": "markdown",
   "metadata": {},
   "source": [
    "Now we will use the primary data source of Serebii.net using their Gen VIII pokedex"
   ]
  },
  {
   "cell_type": "code",
   "execution_count": 108,
   "metadata": {},
   "outputs": [],
   "source": [
    "url = \"https://www.serebii.net/pokedex-swsh/{}/#stats\""
   ]
  },
  {
   "cell_type": "code",
   "execution_count": 109,
   "metadata": {},
   "outputs": [],
   "source": [
    "def get_number(soup):\n",
    "    table = soup.find_all(\"table\", class_=\"dextable\")[1]\n",
    "    num = table.find_all(\"tr\")[1].find_all(\"td\", class_=\"fooinfo\")[2].text.strip().split('\\n')[0].split(\"#\")[-1]\n",
    "    \n",
    "    return num"
   ]
  },
  {
   "cell_type": "code",
   "execution_count": 110,
   "metadata": {},
   "outputs": [],
   "source": [
    "def get_name(soup):\n",
    "    table = soup.find_all(\"table\", class_=\"dextable\")[1]\n",
    "    name = table.find_all(\"tr\")[1].find_all(\"td\")[0].text\n",
    "    \n",
    "    return name"
   ]
  },
  {
   "cell_type": "code",
   "execution_count": 111,
   "metadata": {},
   "outputs": [],
   "source": [
    "def get_altnames(soup):\n",
    "    altnames = {}\n",
    "    table = soup.find_all(\"table\", class_=\"dextable\")[1]\n",
    "    rows = table.find_all(\"tr\")[1].find_all(\"td\")[1].find_all(\"tr\")\n",
    "    for row in rows:\n",
    "        key = row.find_all(\"td\")[0].text.strip().replace(\":\",\"\")\n",
    "        contents = row.find_all(\"td\")[1].contents\n",
    "        value = [x for x in contents if isinstance(x, type(contents[0]))]\n",
    "        altnames[key] = value\n",
    "    \n",
    "    return altnames"
   ]
  },
  {
   "cell_type": "code",
   "execution_count": 112,
   "metadata": {},
   "outputs": [],
   "source": [
    "def get_type(soup):\n",
    "    types = []\n",
    "    table = soup.find_all(\"table\", class_=\"dextable\")[1]\n",
    "    imgs = table.find_all(\"img\")\n",
    "    for img in imgs:\n",
    "        types.append(img[\"src\"].split(\"/\")[-1].split(\".\")[0])\n",
    "    \n",
    "    return types"
   ]
  },
  {
   "cell_type": "code",
   "execution_count": 113,
   "metadata": {},
   "outputs": [],
   "source": [
    "def get_gender(soup):\n",
    "    gender_ratios = {}\n",
    "    table = soup.find_all(\"table\", class_=\"dextable\")[1]\n",
    "    try:  #genderless pokemon will cause exception\n",
    "        rows = table.find_all(\"tr\")[1].find_all(\"td\", class_=\"fooinfo\")[3].contents[0].find_all(\"tr\")\n",
    "        for row in rows:\n",
    "            key = row.find_all(\"td\")[0].text.split(\" \")[0]\n",
    "            value = row.find_all(\"td\")[1].text\n",
    "            gender_ratios[key] = value\n",
    "    except:\n",
    "        pass\n",
    "\n",
    "    return gender_ratios"
   ]
  },
  {
   "cell_type": "code",
   "execution_count": 114,
   "metadata": {},
   "outputs": [],
   "source": [
    "def get_classification(soup):\n",
    "    table = soup.find_all(\"table\", class_=\"dextable\")[1]\n",
    "    classification = table.find_all(\"td\", class_=\"fooinfo\")[4].text\n",
    "    \n",
    "    return classification"
   ]
  },
  {
   "cell_type": "code",
   "execution_count": 115,
   "metadata": {},
   "outputs": [],
   "source": [
    "def get_height(soup):\n",
    "    table = soup.find_all(\"table\", class_=\"dextable\")[1]\n",
    "    height = table.find_all(\"td\", class_=\"fooinfo\")[5].text.split(\"\\t\")[-1]\n",
    "    \n",
    "    return height"
   ]
  },
  {
   "cell_type": "code",
   "execution_count": 116,
   "metadata": {},
   "outputs": [],
   "source": [
    "def get_weight(soup):\n",
    "    table = soup.find_all(\"table\", class_=\"dextable\")[1]\n",
    "    weight = table.find_all(\"td\", class_=\"fooinfo\")[6].text.split(\"\\t\")[-1]\n",
    "    \n",
    "    return weight"
   ]
  },
  {
   "cell_type": "code",
   "execution_count": 117,
   "metadata": {},
   "outputs": [],
   "source": [
    "def get_capture_rate(soup):\n",
    "    table = soup.find_all(\"table\", class_=\"dextable\")[1]\n",
    "    rate = table.find_all(\"td\", class_=\"fooinfo\")[7].text.split(\"\\t\")[-1]\n",
    "    \n",
    "    return rate"
   ]
  },
  {
   "cell_type": "code",
   "execution_count": 118,
   "metadata": {},
   "outputs": [],
   "source": [
    "def get_base_egg_steps(soup):\n",
    "    table = soup.find_all(\"table\", class_=\"dextable\")[1]\n",
    "    steps = table.find_all(\"td\", class_=\"fooinfo\")[8].text.split(\"\\t\")[-1].replace(\",\",\"\")\n",
    "    \n",
    "    return steps"
   ]
  },
  {
   "cell_type": "code",
   "execution_count": 119,
   "metadata": {},
   "outputs": [],
   "source": [
    "def get_base_stats(soup):\n",
    "    base_stats = {}\n",
    "    stat_names = [\"HP\",\"Attack\",\"Defense\",\"Sp. Attack\",\"Sp. Defense\",\"Speed\"]\n",
    "\n",
    "    stats_indices = []\n",
    "    for row in soup.find_all(\"tr\"):\n",
    "        if 'Stats' == row.text.replace('\\n',''):\n",
    "            stats_indices.append(soup.find_all(\"tr\").index(row))\n",
    "\n",
    "    try:\n",
    "        columns = soup.find_all(\"tr\")[stats_indices[0]+2].find_all(\"td\")\n",
    "\n",
    "    except:\n",
    "        columns = soup.find_all(\"tr\")[stats_indices[1]+2].find_all(\"td\")\n",
    "\n",
    "    for i in range(len(stat_names)):\n",
    "        base_stats[stat_names[i]] = columns[i+1].text\n",
    "\n",
    "    return base_stats"
   ]
  },
  {
   "cell_type": "code",
   "execution_count": 120,
   "metadata": {},
   "outputs": [],
   "source": [
    "def get_legendary_status(name):\n",
    "    url = \"https://www.serebii.net/pokemon/legendary.shtml\"\n",
    "    r = requests.get(url)\n",
    "    soup = BeautifulSoup(r.text, \"html.parser\")\n",
    "    tables = soup.find_all(\"table\", class_=\"trainer\")\n",
    "    status_list = [\"sublegendary\",\"legendary\",\"mythical\"]\n",
    "    status_dict = {}\n",
    "    for i in range(len(tables)):\n",
    "        status_dict[status_list[i]] = []\n",
    "        for row in tables[i].find_all(\"tr\", recursive=False)[1:-1]:\n",
    "            for column in row.find_all(\"td\", recursive=False):\n",
    "                item = column.find_all('td')[1].text\n",
    "                status_dict[status_list[i]].append(item)\n",
    "                \n",
    "    legendary_status = {\"sublegendary\": 0, \"legendary\": 0, \"mythical\": 0}\n",
    "    if name in status_dict[\"sublegendary\"]:\n",
    "        legendary_status[\"sublegendary\"] = 1\n",
    "    elif name in status_dict[\"legendary\"]:\n",
    "        legendary_status[\"legendary\"] = 1\n",
    "    elif name in status_dict[\"mythical\"]:\n",
    "        legendary_status[\"mythical\"] = 1\n",
    "    \n",
    "    return legendary_status"
   ]
  },
  {
   "cell_type": "code",
   "execution_count": 121,
   "metadata": {},
   "outputs": [],
   "source": [
    "def get_experience_growth(soup):\n",
    "    table = soup.find_all(\"table\", class_=\"dextable\")[2].find_all(\"tr\", recursive=False)[3]\n",
    "    exp = table.find_all(\"tr\", recursive=False)[3].td.contents[0].split(\" \")[0].replace(\",\",\"\")\n",
    "    \n",
    "    return exp"
   ]
  },
  {
   "cell_type": "code",
   "execution_count": 122,
   "metadata": {},
   "outputs": [],
   "source": [
    "def get_base_happiness(soup):\n",
    "    table = soup.find_all(\"table\", class_=\"dextable\")[2].find_all(\"tr\", recursive=False)[3]\n",
    "    happiness = table.find_all(\"tr\", recursive=False)[3].find_all(\"td\",recursive=False)[1].text\n",
    "    \n",
    "    return happiness"
   ]
  },
  {
   "cell_type": "code",
   "execution_count": 123,
   "metadata": {},
   "outputs": [],
   "source": [
    "def get_against(soup):\n",
    "    headers = []\n",
    "    against_dict = {}\n",
    "    links = soup.find_all(\"table\", class_=\"dextable\")[3].find_all(\"tr\",recursive=False)[1].find_all(\"a\")\n",
    "    for link in links:\n",
    "        header = link['href'].split(\"/\")[-1].split(\".\")[0]\n",
    "        headers.append(header)\n",
    "    \n",
    "    columns = soup.find_all(\"table\", class_=\"dextable\")[3].find_all(\"tr\",recursive=False)[2].find_all('td')\n",
    "    for i in range(len(headers)):\n",
    "        against_dict[headers[i]] = columns[i].text.split('*')[-1]\n",
    "    \n",
    "    return against_dict"
   ]
  },
  {
   "cell_type": "code",
   "execution_count": 124,
   "metadata": {},
   "outputs": [],
   "source": [
    "def get_abilities(soup):\n",
    "    table = soup.find_all(\"table\", class_=\"dextable\")[2]\n",
    "    abilities = table.find_all('tr')[0].text.split(\": \")[1].strip().split(\" - \")\n",
    "    \n",
    "    return abilities"
   ]
  },
  {
   "cell_type": "code",
   "execution_count": 125,
   "metadata": {},
   "outputs": [],
   "source": [
    "def get_gen(number):\n",
    "    if int(number) <= 151:\n",
    "        gen = 'I'\n",
    "    elif int(number) <= 251:\n",
    "        gen = 'II'\n",
    "    elif int(number) <= 386:\n",
    "        gen = 'III'\n",
    "    elif int(number) <= 493:\n",
    "        gen = 'IV'\n",
    "    elif int(number) <= 649:\n",
    "        gen = 'V'\n",
    "    elif int(number) <= 721:\n",
    "        gen = 'VI'\n",
    "    elif int(number) <= 809:\n",
    "        gen = 'VII'\n",
    "    else:\n",
    "        gen = 'VIII'\n",
    "    \n",
    "    return gen"
   ]
  },
  {
   "cell_type": "code",
   "execution_count": 210,
   "metadata": {},
   "outputs": [],
   "source": [
    "def get_evochain(soup):\n",
    "    table = soup.find_all(\"table\", class_=\"evochain\")[0]\n",
    "    chain = []\n",
    "    if len(table.find_all('tr')) == 1:\n",
    "        for img in table.find_all('img'):\n",
    "            try:\n",
    "                a = img['alt']\n",
    "                chain.append(a)   \n",
    "            except:\n",
    "                pass\n",
    "    \n",
    "    elif table.find('a')['href'].split('/')[1] == 'pokedex-sm':\n",
    "        row = table.find('tr')\n",
    "        for col in row.find_all('td')[:7]:\n",
    "            try:\n",
    "                a = col.find('img')['title'].strip()\n",
    "            except:\n",
    "                try:\n",
    "                    a = col.find('img')['alt'].strip()\n",
    "                except:\n",
    "                    number = col.find('a')['href'].split('/')[-1].split('.')[0]\n",
    "                    a = pokemon_names[int(number)-1].title()\n",
    "            chain.append(a)\n",
    "    \n",
    "    else:\n",
    "        for col in table.find_all('td')[:7]:\n",
    "            try:\n",
    "                a = col.find('img')['title'].strip()\n",
    "            except:\n",
    "                try:\n",
    "                    a = col.find('img')['alt'].strip()\n",
    "                except:\n",
    "                    a = col.find('a')['href'].split('/')[-1].title()\n",
    "            chain.append(a)\n",
    "\n",
    "    return chain"
   ]
  },
  {
   "cell_type": "code",
   "execution_count": 188,
   "metadata": {},
   "outputs": [],
   "source": [
    "url = \"https://serebii.net/pokedex-sm/019.shtml\"  # \"https://www.serebii.net/pokedex-sm/025.shtml\"\n",
    "r = requests.get(url)\n",
    "soup = BeautifulSoup(r.text, \"html.parser\")\n",
    "table = soup.find_all(\"table\", class_=\"evochain\")[0]"
   ]
  },
  {
   "cell_type": "code",
   "execution_count": 211,
   "metadata": {},
   "outputs": [
    {
     "data": {
      "text/plain": [
       "['Rattata', 'Level', 'Raticate']"
      ]
     },
     "execution_count": 211,
     "metadata": {},
     "output_type": "execute_result"
    }
   ],
   "source": [
    "get_evochain(soup)"
   ]
  },
  {
   "cell_type": "code",
   "execution_count": 212,
   "metadata": {
    "scrolled": true
   },
   "outputs": [],
   "source": [
    "pokedex = pd.DataFrame()\n",
    "for pokemon in pokemon_names:\n",
    "    stats = {}\n",
    "    \n",
    "    try:\n",
    "        url = \"https://www.serebii.net/pokedex-swsh/{}/#stats\"\n",
    "        r = requests.get(url.format(pokemon))\n",
    "        soup = BeautifulSoup(r.text, \"html.parser\")\n",
    "        check = soup.find_all(\"table\", class_=\"dextable\")[1]\n",
    "    except:\n",
    "        url = \"https://www.serebii.net/pokedex-sm/{}.shtml\"\n",
    "        number = \"{0:0=3d}\".format(pokemon_names.index(pokemon)+1)\n",
    "        r = requests.get(url.format(number))\n",
    "        soup = BeautifulSoup(r.text, \"html.parser\")\n",
    "    \n",
    "    stats['national_number'] = get_number(soup)\n",
    "    stats['gen'] = get_gen(stats['national_number'])\n",
    "    stats['english_name'] = get_name(soup)\n",
    "    stats['japanese_name'] = get_altnames(soup)['Japan'][0]\n",
    "    stats['primary_type'] = get_type(soup)[0]\n",
    "    stats['secondary_type'] = get_type(soup)[1] if len(get_type(soup))>1 else None \n",
    "    stats['percent_male'] = get_gender(soup)['Male'].replace('%','') if len(get_gender(soup))>1 else None\n",
    "    stats['percent_female'] = get_gender(soup)['Female'].replace('%','') if len(get_gender(soup))>1 else None\n",
    "    stats['classification'] = get_classification(soup)\n",
    "    stats['height_m'] = get_height(soup).split('m')[0]\n",
    "    stats['weight_kg'] = get_weight(soup).split('kg')[0]\n",
    "    stats['capture_rate'] = get_capture_rate(soup)\n",
    "    stats['base_egg_steps'] = get_base_egg_steps(soup)\n",
    "    stats['hp'] = get_base_stats(soup)[\"HP\"]\n",
    "    stats['attack'] = get_base_stats(soup)[\"Attack\"]\n",
    "    stats['defense'] = get_base_stats(soup)[\"Defense\"]\n",
    "    stats['sp_attack'] = get_base_stats(soup)[\"Sp. Attack\"]\n",
    "    stats['sp_defense'] = get_base_stats(soup)[\"Sp. Defense\"]\n",
    "    stats['speed'] = get_base_stats(soup)[\"Speed\"]\n",
    "    stats['abilities'] = get_abilities(soup)\n",
    "\n",
    "    for i in range(7):\n",
    "        try:\n",
    "            stats['evochain_{}'.format(i)] = get_evochain(soup)[i]\n",
    "        except:\n",
    "            stats['evochain_{}'.format(i)] = ''\n",
    "    \n",
    "    legend = get_legendary_status(stats['english_name'])\n",
    "    for i in legend.keys():\n",
    "        stats['is_{}'.format(i)] = legend[i]\n",
    "    \n",
    "    against = get_against(soup)\n",
    "    for i in against.keys():\n",
    "        stats['against_{}'.format(i)] = against[i]\n",
    "    \n",
    "    pokedex = pokedex.append(pd.Series(stats), ignore_index=True)"
   ]
  },
  {
   "cell_type": "code",
   "execution_count": 213,
   "metadata": {},
   "outputs": [],
   "source": [
    "cols = [\n",
    "    'national_number',\n",
    "    'gen',\n",
    "    'english_name',\n",
    "    'japanese_name',\n",
    "    'primary_type',\n",
    "    'secondary_type',\n",
    "    'classification',\n",
    "    'percent_male',\n",
    "    'percent_female',\n",
    "    'height_m',\n",
    "    'weight_kg',\n",
    "    'capture_rate',\n",
    "    'base_egg_steps',\n",
    "    'hp',\n",
    "    'attack',\n",
    "    'defense',\n",
    "    'sp_attack',\n",
    "    'sp_defense',\n",
    "    'speed',\n",
    "    'abilities'\n",
    "    ]\n",
    "\n",
    "for i in against.keys():\n",
    "    cols.append('against_{}'.format(i))\n",
    "\n",
    "for i in legend.keys():\n",
    "    cols.append('is_{}'.format(i))\n",
    "\n",
    "for i in range(7):\n",
    "    cols.append('evochain_{}'.format(i))\n"
   ]
  },
  {
   "cell_type": "code",
   "execution_count": 214,
   "metadata": {},
   "outputs": [
    {
     "data": {
      "text/html": [
       "<div>\n",
       "<style scoped>\n",
       "    .dataframe tbody tr th:only-of-type {\n",
       "        vertical-align: middle;\n",
       "    }\n",
       "\n",
       "    .dataframe tbody tr th {\n",
       "        vertical-align: top;\n",
       "    }\n",
       "\n",
       "    .dataframe thead th {\n",
       "        text-align: right;\n",
       "    }\n",
       "</style>\n",
       "<table border=\"1\" class=\"dataframe\">\n",
       "  <thead>\n",
       "    <tr style=\"text-align: right;\">\n",
       "      <th></th>\n",
       "      <th>national_number</th>\n",
       "      <th>gen</th>\n",
       "      <th>english_name</th>\n",
       "      <th>japanese_name</th>\n",
       "      <th>primary_type</th>\n",
       "      <th>secondary_type</th>\n",
       "      <th>classification</th>\n",
       "      <th>percent_male</th>\n",
       "      <th>percent_female</th>\n",
       "      <th>height_m</th>\n",
       "      <th>...</th>\n",
       "      <th>is_sublegendary</th>\n",
       "      <th>is_legendary</th>\n",
       "      <th>is_mythical</th>\n",
       "      <th>evochain_0</th>\n",
       "      <th>evochain_1</th>\n",
       "      <th>evochain_2</th>\n",
       "      <th>evochain_3</th>\n",
       "      <th>evochain_4</th>\n",
       "      <th>evochain_5</th>\n",
       "      <th>evochain_6</th>\n",
       "    </tr>\n",
       "  </thead>\n",
       "  <tbody>\n",
       "    <tr>\n",
       "      <th>15</th>\n",
       "      <td>016</td>\n",
       "      <td>I</td>\n",
       "      <td>Pidgey</td>\n",
       "      <td>Poppo</td>\n",
       "      <td>normal</td>\n",
       "      <td>flying</td>\n",
       "      <td>Tiny Bird Pokémon</td>\n",
       "      <td>50</td>\n",
       "      <td>50</td>\n",
       "      <td>0.3</td>\n",
       "      <td>...</td>\n",
       "      <td>0.0</td>\n",
       "      <td>0.0</td>\n",
       "      <td>0.0</td>\n",
       "      <td>Pidgey</td>\n",
       "      <td>Level</td>\n",
       "      <td>Pidgeotto</td>\n",
       "      <td>Level</td>\n",
       "      <td>Pidgeot</td>\n",
       "      <td>Mega Evolution</td>\n",
       "      <td>Mega Pidgeot</td>\n",
       "    </tr>\n",
       "    <tr>\n",
       "      <th>16</th>\n",
       "      <td>017</td>\n",
       "      <td>I</td>\n",
       "      <td>Pidgeotto</td>\n",
       "      <td>Pigeon</td>\n",
       "      <td>normal</td>\n",
       "      <td>flying</td>\n",
       "      <td>Bird Pokémon</td>\n",
       "      <td>50</td>\n",
       "      <td>50</td>\n",
       "      <td>1.1</td>\n",
       "      <td>...</td>\n",
       "      <td>0.0</td>\n",
       "      <td>0.0</td>\n",
       "      <td>0.0</td>\n",
       "      <td>Pidgey</td>\n",
       "      <td>Level</td>\n",
       "      <td>Pidgeotto</td>\n",
       "      <td>Level</td>\n",
       "      <td>Pidgeot</td>\n",
       "      <td>Mega Evolution</td>\n",
       "      <td>Mega Pidgeot</td>\n",
       "    </tr>\n",
       "    <tr>\n",
       "      <th>17</th>\n",
       "      <td>018</td>\n",
       "      <td>I</td>\n",
       "      <td>Pidgeot</td>\n",
       "      <td>Pigeot</td>\n",
       "      <td>normal</td>\n",
       "      <td>flying</td>\n",
       "      <td>Bird Pokémon</td>\n",
       "      <td>50</td>\n",
       "      <td>50</td>\n",
       "      <td>1.5</td>\n",
       "      <td>...</td>\n",
       "      <td>0.0</td>\n",
       "      <td>0.0</td>\n",
       "      <td>0.0</td>\n",
       "      <td>Pidgey</td>\n",
       "      <td>Level</td>\n",
       "      <td>Pidgeotto</td>\n",
       "      <td>Level</td>\n",
       "      <td>Pidgeot</td>\n",
       "      <td>Mega Evolution</td>\n",
       "      <td>Mega Pidgeot</td>\n",
       "    </tr>\n",
       "    <tr>\n",
       "      <th>18</th>\n",
       "      <td>019</td>\n",
       "      <td>I</td>\n",
       "      <td>Rattata</td>\n",
       "      <td>Koratta</td>\n",
       "      <td>normal</td>\n",
       "      <td>dark</td>\n",
       "      <td>Mouse Pokémon</td>\n",
       "      <td>50</td>\n",
       "      <td>50</td>\n",
       "      <td>0.3</td>\n",
       "      <td>...</td>\n",
       "      <td>0.0</td>\n",
       "      <td>0.0</td>\n",
       "      <td>0.0</td>\n",
       "      <td>Rattata</td>\n",
       "      <td>Level</td>\n",
       "      <td>Raticate</td>\n",
       "      <td></td>\n",
       "      <td></td>\n",
       "      <td></td>\n",
       "      <td></td>\n",
       "    </tr>\n",
       "    <tr>\n",
       "      <th>19</th>\n",
       "      <td>020</td>\n",
       "      <td>I</td>\n",
       "      <td>Raticate</td>\n",
       "      <td>Ratta</td>\n",
       "      <td>normal</td>\n",
       "      <td>dark</td>\n",
       "      <td>Mouse Pokémon</td>\n",
       "      <td>50</td>\n",
       "      <td>50</td>\n",
       "      <td>0.7</td>\n",
       "      <td>...</td>\n",
       "      <td>0.0</td>\n",
       "      <td>0.0</td>\n",
       "      <td>0.0</td>\n",
       "      <td>Rattata</td>\n",
       "      <td>Level</td>\n",
       "      <td>Raticate</td>\n",
       "      <td></td>\n",
       "      <td></td>\n",
       "      <td></td>\n",
       "      <td></td>\n",
       "    </tr>\n",
       "    <tr>\n",
       "      <th>20</th>\n",
       "      <td>021</td>\n",
       "      <td>I</td>\n",
       "      <td>Spearow</td>\n",
       "      <td>Onisuzume</td>\n",
       "      <td>normal</td>\n",
       "      <td>flying</td>\n",
       "      <td>Tiny Bird Pokémon</td>\n",
       "      <td>50</td>\n",
       "      <td>50</td>\n",
       "      <td>0.3</td>\n",
       "      <td>...</td>\n",
       "      <td>0.0</td>\n",
       "      <td>0.0</td>\n",
       "      <td>0.0</td>\n",
       "      <td>Spearow</td>\n",
       "      <td>Level</td>\n",
       "      <td>Fearow</td>\n",
       "      <td></td>\n",
       "      <td></td>\n",
       "      <td></td>\n",
       "      <td></td>\n",
       "    </tr>\n",
       "    <tr>\n",
       "      <th>21</th>\n",
       "      <td>022</td>\n",
       "      <td>I</td>\n",
       "      <td>Fearow</td>\n",
       "      <td>Onidrill</td>\n",
       "      <td>normal</td>\n",
       "      <td>flying</td>\n",
       "      <td>Beak Pokémon</td>\n",
       "      <td>50</td>\n",
       "      <td>50</td>\n",
       "      <td>1.2</td>\n",
       "      <td>...</td>\n",
       "      <td>0.0</td>\n",
       "      <td>0.0</td>\n",
       "      <td>0.0</td>\n",
       "      <td>Spearow</td>\n",
       "      <td>Level</td>\n",
       "      <td>Fearow</td>\n",
       "      <td></td>\n",
       "      <td></td>\n",
       "      <td></td>\n",
       "      <td></td>\n",
       "    </tr>\n",
       "    <tr>\n",
       "      <th>22</th>\n",
       "      <td>023</td>\n",
       "      <td>I</td>\n",
       "      <td>Ekans</td>\n",
       "      <td>Arbo</td>\n",
       "      <td>poison</td>\n",
       "      <td>None</td>\n",
       "      <td>Snake Pokémon</td>\n",
       "      <td>50</td>\n",
       "      <td>50</td>\n",
       "      <td>2</td>\n",
       "      <td>...</td>\n",
       "      <td>0.0</td>\n",
       "      <td>0.0</td>\n",
       "      <td>0.0</td>\n",
       "      <td>Ekans</td>\n",
       "      <td>Level</td>\n",
       "      <td>Arbok</td>\n",
       "      <td></td>\n",
       "      <td></td>\n",
       "      <td></td>\n",
       "      <td></td>\n",
       "    </tr>\n",
       "    <tr>\n",
       "      <th>23</th>\n",
       "      <td>024</td>\n",
       "      <td>I</td>\n",
       "      <td>Arbok</td>\n",
       "      <td>Arbok</td>\n",
       "      <td>poison</td>\n",
       "      <td>None</td>\n",
       "      <td>Cobra Pokémon</td>\n",
       "      <td>50</td>\n",
       "      <td>50</td>\n",
       "      <td>3.5</td>\n",
       "      <td>...</td>\n",
       "      <td>0.0</td>\n",
       "      <td>0.0</td>\n",
       "      <td>0.0</td>\n",
       "      <td>Ekans</td>\n",
       "      <td>Level</td>\n",
       "      <td>Arbok</td>\n",
       "      <td></td>\n",
       "      <td></td>\n",
       "      <td></td>\n",
       "      <td></td>\n",
       "    </tr>\n",
       "    <tr>\n",
       "      <th>24</th>\n",
       "      <td>025</td>\n",
       "      <td>I</td>\n",
       "      <td>Pikachu</td>\n",
       "      <td>Pikachu</td>\n",
       "      <td>electric</td>\n",
       "      <td>None</td>\n",
       "      <td>Mouse Pokémon</td>\n",
       "      <td>50.2</td>\n",
       "      <td>49.8</td>\n",
       "      <td>0.4</td>\n",
       "      <td>...</td>\n",
       "      <td>0.0</td>\n",
       "      <td>0.0</td>\n",
       "      <td>0.0</td>\n",
       "      <td>Pichu</td>\n",
       "      <td>Level Up with Happiness Value at 220</td>\n",
       "      <td>Pikachu</td>\n",
       "      <td>Gigantamax</td>\n",
       "      <td>Gigantamax Pikachu</td>\n",
       "      <td>Use Thunder Stone</td>\n",
       "      <td>Raichu</td>\n",
       "    </tr>\n",
       "  </tbody>\n",
       "</table>\n",
       "<p>10 rows × 48 columns</p>\n",
       "</div>"
      ],
      "text/plain": [
       "   national_number gen english_name japanese_name primary_type secondary_type  \\\n",
       "15             016   I       Pidgey         Poppo       normal         flying   \n",
       "16             017   I    Pidgeotto        Pigeon       normal         flying   \n",
       "17             018   I      Pidgeot        Pigeot       normal         flying   \n",
       "18             019   I      Rattata       Koratta       normal           dark   \n",
       "19             020   I     Raticate         Ratta       normal           dark   \n",
       "20             021   I      Spearow     Onisuzume       normal         flying   \n",
       "21             022   I       Fearow      Onidrill       normal         flying   \n",
       "22             023   I        Ekans          Arbo       poison           None   \n",
       "23             024   I        Arbok         Arbok       poison           None   \n",
       "24             025   I      Pikachu       Pikachu     electric           None   \n",
       "\n",
       "       classification percent_male percent_female height_m  ...  \\\n",
       "15  Tiny Bird Pokémon           50             50      0.3  ...   \n",
       "16       Bird Pokémon           50             50      1.1  ...   \n",
       "17       Bird Pokémon           50             50      1.5  ...   \n",
       "18      Mouse Pokémon           50             50      0.3  ...   \n",
       "19      Mouse Pokémon           50             50      0.7  ...   \n",
       "20  Tiny Bird Pokémon           50             50      0.3  ...   \n",
       "21       Beak Pokémon           50             50      1.2  ...   \n",
       "22      Snake Pokémon           50             50        2  ...   \n",
       "23      Cobra Pokémon           50             50      3.5  ...   \n",
       "24      Mouse Pokémon         50.2           49.8      0.4  ...   \n",
       "\n",
       "   is_sublegendary is_legendary is_mythical evochain_0  \\\n",
       "15             0.0          0.0         0.0     Pidgey   \n",
       "16             0.0          0.0         0.0     Pidgey   \n",
       "17             0.0          0.0         0.0     Pidgey   \n",
       "18             0.0          0.0         0.0    Rattata   \n",
       "19             0.0          0.0         0.0    Rattata   \n",
       "20             0.0          0.0         0.0    Spearow   \n",
       "21             0.0          0.0         0.0    Spearow   \n",
       "22             0.0          0.0         0.0      Ekans   \n",
       "23             0.0          0.0         0.0      Ekans   \n",
       "24             0.0          0.0         0.0      Pichu   \n",
       "\n",
       "                              evochain_1 evochain_2  evochain_3  \\\n",
       "15                                Level   Pidgeotto      Level    \n",
       "16                                Level   Pidgeotto      Level    \n",
       "17                                Level   Pidgeotto      Level    \n",
       "18                                 Level   Raticate               \n",
       "19                                 Level   Raticate               \n",
       "20                                Level      Fearow               \n",
       "21                                Level      Fearow               \n",
       "22                                Level       Arbok               \n",
       "23                                Level       Arbok               \n",
       "24  Level Up with Happiness Value at 220    Pikachu  Gigantamax   \n",
       "\n",
       "            evochain_4         evochain_5    evochain_6  \n",
       "15             Pidgeot     Mega Evolution  Mega Pidgeot  \n",
       "16             Pidgeot     Mega Evolution  Mega Pidgeot  \n",
       "17             Pidgeot     Mega Evolution  Mega Pidgeot  \n",
       "18                                                       \n",
       "19                                                       \n",
       "20                                                       \n",
       "21                                                       \n",
       "22                                                       \n",
       "23                                                       \n",
       "24  Gigantamax Pikachu  Use Thunder Stone        Raichu  \n",
       "\n",
       "[10 rows x 48 columns]"
      ]
     },
     "execution_count": 214,
     "metadata": {},
     "output_type": "execute_result"
    }
   ],
   "source": [
    "pokedex[cols][15:25]"
   ]
  },
  {
   "cell_type": "code",
   "execution_count": 215,
   "metadata": {},
   "outputs": [],
   "source": [
    "pokedex[cols].to_csv('pokemon.csv', index=False, encoding='utf-16')"
   ]
  },
  {
   "cell_type": "code",
   "execution_count": 4,
   "metadata": {},
   "outputs": [],
   "source": [
    "df = pd.read_csv('pokemon.csv', encoding='utf-16')"
   ]
  },
  {
   "cell_type": "code",
   "execution_count": 7,
   "metadata": {},
   "outputs": [],
   "source": [
    "df = pd.melt(df, \n",
    "        id_vars=['national_number','english_name'], \n",
    "        value_vars=['hp', 'attack', 'defense', 'sp_attack', 'sp_defense','speed'], \n",
    "        var_name='stat_name', \n",
    "        value_name='stat_value')"
   ]
  },
  {
   "cell_type": "code",
   "execution_count": 8,
   "metadata": {},
   "outputs": [],
   "source": [
    "df.to_csv('pokemon_stats.csv', index=False, encoding='utf-16')"
   ]
  },
  {
   "cell_type": "markdown",
   "metadata": {},
   "source": [
    "Obtain small images of all 898 pokemon"
   ]
  },
  {
   "cell_type": "code",
   "execution_count": null,
   "metadata": {
    "scrolled": false
   },
   "outputs": [],
   "source": [
    "import urllib.request\n",
    "\n",
    "for i in range(898):\n",
    "    url = \"https://assets.pokemon.com/assets/cms2/img/pokedex/detail/{0:0=3d}.png\".format(i+1)\n",
    "    output = \"{0:0=3d}.png\".format(i+1)\n",
    "    urllib.request.urlretrieve(url, output)"
   ]
  },
  {
   "cell_type": "markdown",
   "metadata": {},
   "source": [
    "Obtain large images of all 898 pokemon"
   ]
  },
  {
   "cell_type": "code",
   "execution_count": null,
   "metadata": {},
   "outputs": [],
   "source": [
    "import os\n",
    "\n",
    "cwd = os.getcwd()\n",
    "\n",
    "for i in range(len(pokemon_names)):\n",
    "    try:\n",
    "        url = \"https://bulbapedia.bulbagarden.net/wiki/File:{}.png\".format(\"{0:0=3d}\".format(i+1)+pokemon_names[i].replace(\"'\",\"%27\").replace(\".\",\"._\").capitalize())\n",
    "        r = requests.get(url)\n",
    "        soup = BeautifulSoup(r.text, \"html.parser\")\n",
    "        div = soup.find(\"div\", class_=\"fullImageLink\")\n",
    "        target = div.a['href']\n",
    "        output = \"/images/{0:0=3d}.png\".format(i+1)\n",
    "    except:\n",
    "        try:\n",
    "            url = \"https://bulbapedia.bulbagarden.net/wiki/File:{}.png\".format(\"{0:0=3d}\".format(i+1)+pokemon_names[i].replace(\"'\",\"%27\").replace(\".\",\"._\").title())\n",
    "            r = requests.get(url)\n",
    "            soup = BeautifulSoup(r.text, \"html.parser\")\n",
    "            div = soup.find(\"div\", class_=\"fullImageLink\")\n",
    "            target = div.a['href']\n",
    "            output = \"/images/{0:0=3d}.png\".format(i+1)\n",
    "        except:\n",
    "            if pokemon_names[i]=='mimejr.':\n",
    "                name = 'Mime_Jr'\n",
    "                url = \"https://bulbapedia.bulbagarden.net/wiki/File:{}.png\".format(\"{0:0=3d}\".format(i+1)+name)\n",
    "                r = requests.get(url)\n",
    "                soup = BeautifulSoup(r.text, \"html.parser\")\n",
    "                div = soup.find(\"div\", class_=\"fullImageLink\")\n",
    "                target = div.a['href']\n",
    "                output = \"/images/{0:0=3d}.png\".format(i+1)\n",
    "            else:\n",
    "                name = \"Giratina\"\n",
    "                url = \"https://bulbapedia.bulbagarden.net/wiki/File:{}.png\".format(\"{0:0=3d}\".format(i+1)+name+\"-Origin\")\n",
    "                r = requests.get(url)\n",
    "                soup = BeautifulSoup(r.text, \"html.parser\")\n",
    "                div = soup.find(\"div\", class_=\"fullImageLink\")\n",
    "                target = div.a['href']\n",
    "                output = \"/images/{0:0=3d}.png\".format(i+1+485)\n",
    "                \n",
    "    try:\n",
    "        urllib.request.urlretrieve(target, output)\n",
    "    except:\n",
    "        if target[0:4] != 'http':\n",
    "            target = \"https:\" + target\n",
    "        r = requests.get(target)\n",
    "        with open(cwd+output, 'wb') as outfile:\n",
    "            outfile.write(r.content)\n",
    "            outfile.close()"
   ]
  },
  {
   "cell_type": "markdown",
   "metadata": {},
   "source": [
    "Collect alternative images for pokemon with alt forms (e.g. regional variants, mega evolution, gigantamax)"
   ]
  },
  {
   "cell_type": "code",
   "execution_count": 20,
   "metadata": {},
   "outputs": [],
   "source": [
    "url = 'https://bulbapedia.bulbagarden.net/wiki/Mega_Evolution'\n",
    "base = 'https://bulbapedia.bulbagarden.net'"
   ]
  },
  {
   "cell_type": "code",
   "execution_count": 32,
   "metadata": {},
   "outputs": [],
   "source": [
    "r = requests.get(url)\n",
    "soup = BeautifulSoup(r.text, \"html.parser\")"
   ]
  },
  {
   "cell_type": "code",
   "execution_count": 22,
   "metadata": {
    "scrolled": false
   },
   "outputs": [],
   "source": [
    "import os\n",
    "\n",
    "cwd = os.getcwd()\n",
    "\n",
    "for i in soup.find_all('a', class_='image'):\n",
    "    if '-Mega' in i['href']:\n",
    "        url = base+i['href']\n",
    "        output = i['href'].split(':')[-1]\n",
    "        r = requests.get(url)\n",
    "        soup2 = BeautifulSoup(r.text, \"html.parser\")\n",
    "        div = soup2.find(\"div\", class_=\"fullImageLink\")\n",
    "        target = div.a['href']\n",
    "        if target[0:4] != 'http':\n",
    "            target = \"https:\" + target\n",
    "        try:\n",
    "            urllib.request.urlretrieve(target, output)\n",
    "        except:\n",
    "            r = requests.get(target)\n",
    "        with open(cwd+output, 'wb') as outfile:\n",
    "            outfile.write(r.content)\n",
    "            outfile.close()"
   ]
  },
  {
   "cell_type": "code",
   "execution_count": 31,
   "metadata": {},
   "outputs": [],
   "source": [
    "url = 'https://bulbapedia.bulbagarden.net/wiki/Primal_Reversion'"
   ]
  },
  {
   "cell_type": "code",
   "execution_count": 34,
   "metadata": {},
   "outputs": [],
   "source": [
    "import os\n",
    "\n",
    "cwd = os.getcwd()\n",
    "\n",
    "for i in soup.find_all('a', class_='image'):\n",
    "    if '-Primal' in i['href']:\n",
    "        url = base+i['href']\n",
    "        output = i['href'].split(':')[-1]\n",
    "        r = requests.get(url)\n",
    "        soup2 = BeautifulSoup(r.text, \"html.parser\")\n",
    "        div = soup2.find(\"div\", class_=\"fullImageLink\")\n",
    "        target = div.a['href']\n",
    "        if target[0:4] != 'http':\n",
    "            target = \"https:\" + target\n",
    "        try:\n",
    "            urllib.request.urlretrieve(target, output)\n",
    "        except:\n",
    "            r = requests.get(target)\n",
    "        with open(cwd+output, 'wb') as outfile:\n",
    "            outfile.write(r.content)\n",
    "            outfile.close()"
   ]
  },
  {
   "cell_type": "code",
   "execution_count": 36,
   "metadata": {
    "scrolled": false
   },
   "outputs": [],
   "source": [
    "url = 'https://bulbapedia.bulbagarden.net/wiki/List_of_Pok%C3%A9mon_with_form_differences'\n",
    "r = requests.get(url)\n",
    "soup = BeautifulSoup(r.text, \"html.parser\")"
   ]
  },
  {
   "cell_type": "code",
   "execution_count": 40,
   "metadata": {},
   "outputs": [],
   "source": [
    "import os\n",
    "\n",
    "cwd = os.getcwd()\n",
    "\n",
    "for i in soup.find_all('a', class_='image'):\n",
    "    if '-' in i['href'] and '.png' in i['href']:\n",
    "        url = base+i['href']\n",
    "        output = i['href'].split(':')[-1]\n",
    "        r = requests.get(url)\n",
    "        soup2 = BeautifulSoup(r.text, \"html.parser\")\n",
    "        div = soup2.find(\"div\", class_=\"fullImageLink\")\n",
    "        target = div.a['href']\n",
    "        if target[0:4] != 'http':\n",
    "            target = \"https:\" + target\n",
    "        try:\n",
    "            urllib.request.urlretrieve(target, output)\n",
    "        except:\n",
    "            r = requests.get(target)\n",
    "        with open(cwd+output, 'wb') as outfile:\n",
    "            outfile.write(r.content)\n",
    "            outfile.close()"
   ]
  },
  {
   "cell_type": "code",
   "execution_count": null,
   "metadata": {},
   "outputs": [],
   "source": []
  },
  {
   "cell_type": "raw",
   "metadata": {},
   "source": [
    "url = 'https://bulbapedia.bulbagarden.net/wiki/Regional_form'\n",
    "r = requests.get(url)\n",
    "soup = BeautifulSoup(r.text, \"html.parser\")"
   ]
  },
  {
   "cell_type": "code",
   "execution_count": null,
   "metadata": {},
   "outputs": [],
   "source": []
  },
  {
   "cell_type": "code",
   "execution_count": null,
   "metadata": {},
   "outputs": [],
   "source": [
    "import urllib.request\n",
    "\n",
    "for i in range(898):\n",
    "    url = \"https://assets.pokemon.com/assets/cms2/img/pokedex/detail/{0:0=3d}.png\".format(i+1)\n",
    "    output = \"{0:0=3d}.png\".format(i+1)\n",
    "    urllib.request.urlretrieve(url, output)"
   ]
  }
 ],
 "metadata": {
  "kernelspec": {
   "display_name": "Python 3",
   "language": "python",
   "name": "python3"
  },
  "language_info": {
   "codemirror_mode": {
    "name": "ipython",
    "version": 3
   },
   "file_extension": ".py",
   "mimetype": "text/x-python",
   "name": "python",
   "nbconvert_exporter": "python",
   "pygments_lexer": "ipython3",
   "version": "3.7.4"
  }
 },
 "nbformat": 4,
 "nbformat_minor": 2
}
